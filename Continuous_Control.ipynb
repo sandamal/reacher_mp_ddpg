{
 "cells": [
  {
   "cell_type": "markdown",
   "metadata": {},
   "source": [
    "# Continuous Control\n",
    "\n",
    "---\n",
    "\n",
    "You are welcome to use this coding environment to train your agent for the project.  Follow the instructions below to get started!\n",
    "\n",
    "### 1. Start the Environment\n",
    "\n",
    "Run the next code cell to install a few packages.  This line will take a few minutes to run!"
   ]
  },
  {
   "cell_type": "code",
   "execution_count": 1,
   "metadata": {},
   "outputs": [
    {
     "name": "stdout",
     "output_type": "stream",
     "text": [
      "\u001b[31mtensorflow 1.7.1 has requirement numpy>=1.13.3, but you'll have numpy 1.12.1 which is incompatible.\u001b[0m\n",
      "\u001b[31mipython 6.5.0 has requirement prompt-toolkit<2.0.0,>=1.0.15, but you'll have prompt-toolkit 3.0.13 which is incompatible.\u001b[0m\n"
     ]
    }
   ],
   "source": [
    "!pip -q install ./python"
   ]
  },
  {
   "cell_type": "markdown",
   "metadata": {},
   "source": [
    "The environments corresponding to both versions of the environment are already saved in the Workspace and can be accessed at the file paths provided below.  \n",
    "\n",
    "Please select one of the two options below for loading the environment."
   ]
  },
  {
   "cell_type": "code",
   "execution_count": 2,
   "metadata": {},
   "outputs": [
    {
     "name": "stderr",
     "output_type": "stream",
     "text": [
      "INFO:unityagents:\n",
      "'Academy' started successfully!\n",
      "Unity Academy name: Academy\n",
      "        Number of Brains: 1\n",
      "        Number of External Brains : 1\n",
      "        Lesson number : 0\n",
      "        Reset Parameters :\n",
      "\t\tgoal_size -> 5.0\n",
      "\t\tgoal_speed -> 1.0\n",
      "Unity brain name: ReacherBrain\n",
      "        Number of Visual Observations (per agent): 0\n",
      "        Vector Observation space type: continuous\n",
      "        Vector Observation space size (per agent): 33\n",
      "        Number of stacked Vector Observation: 1\n",
      "        Vector Action space type: continuous\n",
      "        Vector Action space size (per agent): 4\n",
      "        Vector Action descriptions: , , , \n"
     ]
    }
   ],
   "source": [
    "from unityagents import UnityEnvironment\n",
    "import numpy as np\n",
    "\n",
    "# select this option to load version 1 (with a single agent) of the environment\n",
    "# env = UnityEnvironment(file_name='/data/Reacher_One_Linux_NoVis/Reacher_One_Linux_NoVis.x86_64')\n",
    "\n",
    "# select this option to load version 2 (with 20 agents) of the environment\n",
    "env = UnityEnvironment(file_name='/data/Reacher_Linux_NoVis/Reacher.x86_64')"
   ]
  },
  {
   "cell_type": "markdown",
   "metadata": {},
   "source": [
    "Environments contain **_brains_** which are responsible for deciding the actions of their associated agents. Here we check for the first brain available, and set it as the default brain we will be controlling from Python."
   ]
  },
  {
   "cell_type": "code",
   "execution_count": 3,
   "metadata": {},
   "outputs": [],
   "source": [
    "# get the default brain\n",
    "brain_name = env.brain_names[0]\n",
    "brain = env.brains[brain_name]"
   ]
  },
  {
   "cell_type": "markdown",
   "metadata": {},
   "source": [
    "### 2. Examine the State and Action Spaces\n",
    "\n",
    "Run the code cell below to print some information about the environment."
   ]
  },
  {
   "cell_type": "code",
   "execution_count": 4,
   "metadata": {},
   "outputs": [
    {
     "name": "stdout",
     "output_type": "stream",
     "text": [
      "Number of agents: 20\n",
      "Size of each action: 4\n",
      "There are 20 agents. Each observes a state with length: 33\n",
      "The state for the first agent looks like: [  0.00000000e+00  -4.00000000e+00   0.00000000e+00   1.00000000e+00\n",
      "  -0.00000000e+00  -0.00000000e+00  -4.37113883e-08   0.00000000e+00\n",
      "   0.00000000e+00   0.00000000e+00   0.00000000e+00   0.00000000e+00\n",
      "   0.00000000e+00   0.00000000e+00  -1.00000000e+01   0.00000000e+00\n",
      "   1.00000000e+00  -0.00000000e+00  -0.00000000e+00  -4.37113883e-08\n",
      "   0.00000000e+00   0.00000000e+00   0.00000000e+00   0.00000000e+00\n",
      "   0.00000000e+00   0.00000000e+00   5.75471878e+00  -1.00000000e+00\n",
      "   5.55726624e+00   0.00000000e+00   1.00000000e+00   0.00000000e+00\n",
      "  -1.68164849e-01]\n"
     ]
    }
   ],
   "source": [
    "# reset the environment\n",
    "env_info = env.reset(train_mode=True)[brain_name]\n",
    "\n",
    "# number of agents\n",
    "num_agents = len(env_info.agents)\n",
    "print('Number of agents:', num_agents)\n",
    "\n",
    "# size of each action\n",
    "action_size = brain.vector_action_space_size\n",
    "print('Size of each action:', action_size)\n",
    "\n",
    "# examine the state space \n",
    "states = env_info.vector_observations\n",
    "state_size = states.shape[1]\n",
    "print('There are {} agents. Each observes a state with length: {}'.format(states.shape[0], state_size))\n",
    "print('The state for the first agent looks like:', states[0])"
   ]
  },
  {
   "cell_type": "markdown",
   "metadata": {},
   "source": [
    "### 3. Take Random Actions in the Environment\n",
    "\n",
    "In the next code cell, you will learn how to use the Python API to control the agent and receive feedback from the environment.\n",
    "\n",
    "Note that **in this coding environment, you will not be able to watch the agents while they are training**, and you should set `train_mode=True` to restart the environment."
   ]
  },
  {
   "cell_type": "code",
   "execution_count": null,
   "metadata": {},
   "outputs": [],
   "source": [
    "env_info = env.reset(train_mode=True)[brain_name]      # reset the environment    \n",
    "states = env_info.vector_observations                  # get the current state (for each agent)\n",
    "scores = np.zeros(num_agents)                          # initialize the score (for each agent)\n",
    "while True:\n",
    "    actions = np.random.randn(num_agents, action_size) # select an action (for each agent)\n",
    "    actions = np.clip(actions, -1, 1)                  # all actions between -1 and 1\n",
    "    env_info = env.step(actions)[brain_name]           # send all actions to tne environment\n",
    "    next_states = env_info.vector_observations         # get next state (for each agent)\n",
    "    rewards = env_info.rewards                         # get reward (for each agent)\n",
    "    dones = env_info.local_done                        # see if episode finished\n",
    "    scores += env_info.rewards                         # update the score (for each agent)\n",
    "    states = next_states                               # roll over states to next time step\n",
    "    if np.any(dones):                                  # exit loop if episode finished\n",
    "        break\n",
    "print('Total score (averaged over agents) this episode: {}'.format(np.mean(scores)))"
   ]
  },
  {
   "cell_type": "code",
   "execution_count": 5,
   "metadata": {},
   "outputs": [],
   "source": [
    "from ddpg_agent import Agent\n",
    "from collections import deque\n",
    "import matplotlib.pyplot as plt\n",
    "import random\n",
    "import time\n",
    "import torch\n",
    "from unityagents import UnityEnvironment\n",
    "\n",
    "%matplotlib inline\n"
   ]
  },
  {
   "cell_type": "code",
   "execution_count": 6,
   "metadata": {},
   "outputs": [],
   "source": [
    "def ddpg(n_episodes=500, max_t=1000, solved_score=30.0, moving_window_size=100, print_every=1, train_mode=True):\n",
    "    \"\"\"Deep Deterministic Policy Gradient (DDPG)\n",
    "    \n",
    "    Params\n",
    "    ======\n",
    "        n_episodes (int)      : maximum number of training episodes\n",
    "        max_t (int)           : maximum number of timesteps per episode\n",
    "        train_mode (bool)     : if 'True' set environment to training mode\n",
    "        solved_score (float)  : min avg score over consecutive episodes\n",
    "        moving_window_size (int) : number of consecutive episodes used to calculate score\n",
    "        print_every (int)     : interval to display results\n",
    "\n",
    "    \"\"\"\n",
    "    score_history = []                               # score list\n",
    "    scores_deque = deque(maxlen=moving_window_size)  # scores of the most recent episodes\n",
    "    moving_averages = []                             # list of moving averages\n",
    "    \n",
    "    for episode_number in range(1, n_episodes+1):\n",
    "        env_info = env.reset(train_mode=train_mode)[brain_name] # reset environment\n",
    "        states = env_info.vector_observations                   # get current state for each agent      \n",
    "        scores = np.zeros(num_agents)                           # initialize score for each agent\n",
    "        agent.reset()\n",
    "        start_time = time.time()\n",
    "        for t in range(max_t):\n",
    "            actions = agent.act(states, add_noise=True)         # select an action\n",
    "            env_info = env.step(actions)[brain_name]            # send actions to environment\n",
    "            next_states = env_info.vector_observations          # get next state\n",
    "            rewards = env_info.rewards                          # get reward\n",
    "            dones = env_info.local_done                         # see if episode has finished\n",
    "            # save experience to replay buffer, perform learning step at defined interval\n",
    "            for state, action, reward, next_state, done in zip(states, actions, rewards, next_states, dones):\n",
    "                agent.step(state, action, reward, next_state, done, t)             \n",
    "            states = next_states\n",
    "            scores += rewards        \n",
    "            if np.any(dones):                                   # exit loop when episode ends\n",
    "                break\n",
    "        duration = time.time() - start_time\n",
    "        score_history.append(np.mean(scores))           # save mean score for the episode\n",
    "        scores_deque.append(score_history[-1])         # save mean score to window\n",
    "        moving_averages.append(np.mean(scores_deque))    # save moving average\n",
    "        \n",
    "        print(f'Episode {episode_number} (elapsed ({round(duration)}))\\tAverage score: {score_history[-1]:.2f}\\tMoving Average: {moving_averages[-1]:.2f}')\n",
    "                  \n",
    "        if moving_averages[-1] >= solved_score and episode_number >= moving_window_size:\n",
    "            print(f'\\nEnvironment solved in {episode_number} episodes. \\tMoving Average ={moving_averages[-1]:.2f} over last {moving_window_size} episodes')\n",
    "            if train_mode:\n",
    "                torch.save(agent.actor_local.state_dict(), 'actor_ckpt.pth')\n",
    "                torch.save(agent.critic_local.state_dict(), 'critic_ckpt.pth')  \n",
    "            break\n",
    "            \n",
    "    return score_history, moving_averages"
   ]
  },
  {
   "cell_type": "code",
   "execution_count": 7,
   "metadata": {},
   "outputs": [
    {
     "name": "stdout",
     "output_type": "stream",
     "text": [
      "Episode 1 (elapsed (113))\tAverage score: 0.61\tMoving Average: 0.61\n",
      "Episode 2 (elapsed (116))\tAverage score: 0.92\tMoving Average: 0.77\n",
      "Episode 3 (elapsed (117))\tAverage score: 1.98\tMoving Average: 1.17\n",
      "Episode 4 (elapsed (118))\tAverage score: 2.48\tMoving Average: 1.50\n",
      "Episode 5 (elapsed (119))\tAverage score: 2.90\tMoving Average: 1.78\n",
      "Episode 6 (elapsed (120))\tAverage score: 4.37\tMoving Average: 2.21\n",
      "Episode 7 (elapsed (121))\tAverage score: 3.50\tMoving Average: 2.40\n",
      "Episode 8 (elapsed (122))\tAverage score: 4.89\tMoving Average: 2.71\n",
      "Episode 9 (elapsed (123))\tAverage score: 5.77\tMoving Average: 3.05\n",
      "Episode 10 (elapsed (124))\tAverage score: 6.86\tMoving Average: 3.43\n",
      "Episode 11 (elapsed (125))\tAverage score: 8.12\tMoving Average: 3.85\n",
      "Episode 12 (elapsed (127))\tAverage score: 7.96\tMoving Average: 4.20\n",
      "Episode 13 (elapsed (128))\tAverage score: 7.16\tMoving Average: 4.43\n",
      "Episode 14 (elapsed (130))\tAverage score: 9.00\tMoving Average: 4.75\n",
      "Episode 15 (elapsed (131))\tAverage score: 8.34\tMoving Average: 4.99\n",
      "Episode 16 (elapsed (134))\tAverage score: 8.64\tMoving Average: 5.22\n",
      "Episode 17 (elapsed (135))\tAverage score: 8.51\tMoving Average: 5.41\n",
      "Episode 18 (elapsed (138))\tAverage score: 7.84\tMoving Average: 5.55\n",
      "Episode 19 (elapsed (139))\tAverage score: 9.91\tMoving Average: 5.78\n",
      "Episode 20 (elapsed (142))\tAverage score: 9.77\tMoving Average: 5.98\n",
      "Episode 21 (elapsed (144))\tAverage score: 12.85\tMoving Average: 6.30\n",
      "Episode 22 (elapsed (147))\tAverage score: 12.01\tMoving Average: 6.56\n",
      "Episode 23 (elapsed (149))\tAverage score: 12.43\tMoving Average: 6.82\n",
      "Episode 24 (elapsed (151))\tAverage score: 13.23\tMoving Average: 7.09\n",
      "Episode 25 (elapsed (153))\tAverage score: 14.28\tMoving Average: 7.37\n",
      "Episode 26 (elapsed (156))\tAverage score: 12.96\tMoving Average: 7.59\n",
      "Episode 27 (elapsed (159))\tAverage score: 14.64\tMoving Average: 7.85\n",
      "Episode 28 (elapsed (162))\tAverage score: 15.94\tMoving Average: 8.14\n",
      "Episode 29 (elapsed (164))\tAverage score: 15.73\tMoving Average: 8.40\n",
      "Episode 30 (elapsed (166))\tAverage score: 15.20\tMoving Average: 8.63\n",
      "Episode 31 (elapsed (169))\tAverage score: 14.83\tMoving Average: 8.83\n",
      "Episode 32 (elapsed (171))\tAverage score: 15.49\tMoving Average: 9.04\n",
      "Episode 33 (elapsed (173))\tAverage score: 18.45\tMoving Average: 9.32\n",
      "Episode 34 (elapsed (177))\tAverage score: 18.38\tMoving Average: 9.59\n",
      "Episode 35 (elapsed (179))\tAverage score: 18.04\tMoving Average: 9.83\n",
      "Episode 36 (elapsed (182))\tAverage score: 18.22\tMoving Average: 10.06\n",
      "Episode 37 (elapsed (184))\tAverage score: 19.49\tMoving Average: 10.32\n",
      "Episode 38 (elapsed (187))\tAverage score: 20.23\tMoving Average: 10.58\n",
      "Episode 39 (elapsed (189))\tAverage score: 21.05\tMoving Average: 10.85\n",
      "Episode 40 (elapsed (192))\tAverage score: 21.16\tMoving Average: 11.10\n",
      "Episode 41 (elapsed (195))\tAverage score: 22.14\tMoving Average: 11.37\n",
      "Episode 42 (elapsed (197))\tAverage score: 24.09\tMoving Average: 11.68\n",
      "Episode 43 (elapsed (200))\tAverage score: 26.38\tMoving Average: 12.02\n",
      "Episode 44 (elapsed (202))\tAverage score: 24.90\tMoving Average: 12.31\n",
      "Episode 45 (elapsed (205))\tAverage score: 27.19\tMoving Average: 12.64\n",
      "Episode 46 (elapsed (208))\tAverage score: 28.53\tMoving Average: 12.99\n",
      "Episode 47 (elapsed (209))\tAverage score: 28.86\tMoving Average: 13.32\n",
      "Episode 48 (elapsed (211))\tAverage score: 30.02\tMoving Average: 13.67\n",
      "Episode 49 (elapsed (214))\tAverage score: 31.02\tMoving Average: 14.03\n",
      "Episode 50 (elapsed (216))\tAverage score: 31.56\tMoving Average: 14.38\n",
      "Episode 51 (elapsed (218))\tAverage score: 32.60\tMoving Average: 14.73\n",
      "Episode 52 (elapsed (218))\tAverage score: 32.87\tMoving Average: 15.08\n",
      "Episode 53 (elapsed (219))\tAverage score: 33.07\tMoving Average: 15.42\n",
      "Episode 54 (elapsed (219))\tAverage score: 34.45\tMoving Average: 15.77\n",
      "Episode 55 (elapsed (218))\tAverage score: 34.05\tMoving Average: 16.11\n",
      "Episode 56 (elapsed (218))\tAverage score: 33.82\tMoving Average: 16.42\n",
      "Episode 57 (elapsed (218))\tAverage score: 34.20\tMoving Average: 16.73\n",
      "Episode 58 (elapsed (218))\tAverage score: 34.88\tMoving Average: 17.05\n",
      "Episode 59 (elapsed (217))\tAverage score: 36.83\tMoving Average: 17.38\n",
      "Episode 60 (elapsed (218))\tAverage score: 36.39\tMoving Average: 17.70\n",
      "Episode 61 (elapsed (218))\tAverage score: 36.69\tMoving Average: 18.01\n",
      "Episode 62 (elapsed (218))\tAverage score: 36.32\tMoving Average: 18.31\n",
      "Episode 63 (elapsed (218))\tAverage score: 36.68\tMoving Average: 18.60\n",
      "Episode 64 (elapsed (218))\tAverage score: 37.31\tMoving Average: 18.89\n",
      "Episode 65 (elapsed (218))\tAverage score: 38.28\tMoving Average: 19.19\n",
      "Episode 66 (elapsed (219))\tAverage score: 38.34\tMoving Average: 19.48\n",
      "Episode 67 (elapsed (218))\tAverage score: 38.98\tMoving Average: 19.77\n",
      "Episode 68 (elapsed (219))\tAverage score: 38.71\tMoving Average: 20.05\n",
      "Episode 69 (elapsed (219))\tAverage score: 38.81\tMoving Average: 20.32\n",
      "Episode 70 (elapsed (218))\tAverage score: 38.18\tMoving Average: 20.58\n",
      "Episode 71 (elapsed (217))\tAverage score: 38.64\tMoving Average: 20.83\n",
      "Episode 72 (elapsed (218))\tAverage score: 39.14\tMoving Average: 21.08\n",
      "Episode 73 (elapsed (219))\tAverage score: 38.91\tMoving Average: 21.33\n",
      "Episode 74 (elapsed (218))\tAverage score: 38.36\tMoving Average: 21.56\n",
      "Episode 75 (elapsed (219))\tAverage score: 38.48\tMoving Average: 21.78\n",
      "Episode 76 (elapsed (219))\tAverage score: 38.40\tMoving Average: 22.00\n",
      "Episode 77 (elapsed (218))\tAverage score: 38.95\tMoving Average: 22.22\n",
      "Episode 78 (elapsed (218))\tAverage score: 39.06\tMoving Average: 22.44\n",
      "Episode 79 (elapsed (218))\tAverage score: 39.27\tMoving Average: 22.65\n",
      "Episode 80 (elapsed (218))\tAverage score: 39.25\tMoving Average: 22.86\n",
      "Episode 81 (elapsed (218))\tAverage score: 39.11\tMoving Average: 23.06\n",
      "Episode 82 (elapsed (219))\tAverage score: 38.92\tMoving Average: 23.25\n",
      "Episode 83 (elapsed (219))\tAverage score: 39.07\tMoving Average: 23.44\n",
      "Episode 84 (elapsed (219))\tAverage score: 38.78\tMoving Average: 23.63\n",
      "Episode 85 (elapsed (219))\tAverage score: 38.99\tMoving Average: 23.81\n",
      "Episode 86 (elapsed (220))\tAverage score: 39.11\tMoving Average: 23.99\n",
      "Episode 87 (elapsed (225))\tAverage score: 39.10\tMoving Average: 24.16\n",
      "Episode 88 (elapsed (219))\tAverage score: 38.95\tMoving Average: 24.33\n",
      "Episode 89 (elapsed (219))\tAverage score: 38.91\tMoving Average: 24.49\n",
      "Episode 90 (elapsed (220))\tAverage score: 38.70\tMoving Average: 24.65\n",
      "Episode 91 (elapsed (219))\tAverage score: 38.51\tMoving Average: 24.80\n",
      "Episode 92 (elapsed (219))\tAverage score: 38.69\tMoving Average: 24.95\n",
      "Episode 93 (elapsed (220))\tAverage score: 38.24\tMoving Average: 25.10\n",
      "Episode 94 (elapsed (219))\tAverage score: 38.56\tMoving Average: 25.24\n",
      "Episode 95 (elapsed (218))\tAverage score: 38.78\tMoving Average: 25.38\n",
      "Episode 96 (elapsed (219))\tAverage score: 37.85\tMoving Average: 25.51\n",
      "Episode 97 (elapsed (220))\tAverage score: 36.46\tMoving Average: 25.62\n",
      "Episode 98 (elapsed (220))\tAverage score: 36.39\tMoving Average: 25.73\n",
      "Episode 99 (elapsed (220))\tAverage score: 38.00\tMoving Average: 25.86\n",
      "Episode 100 (elapsed (219))\tAverage score: 38.20\tMoving Average: 25.98\n",
      "Episode 101 (elapsed (219))\tAverage score: 38.93\tMoving Average: 26.36\n",
      "Episode 102 (elapsed (220))\tAverage score: 38.39\tMoving Average: 26.74\n",
      "Episode 103 (elapsed (220))\tAverage score: 37.98\tMoving Average: 27.10\n",
      "Episode 104 (elapsed (220))\tAverage score: 37.67\tMoving Average: 27.45\n",
      "Episode 105 (elapsed (219))\tAverage score: 37.68\tMoving Average: 27.80\n",
      "Episode 106 (elapsed (219))\tAverage score: 37.69\tMoving Average: 28.13\n",
      "Episode 107 (elapsed (220))\tAverage score: 38.10\tMoving Average: 28.48\n",
      "Episode 108 (elapsed (219))\tAverage score: 38.21\tMoving Average: 28.81\n",
      "Episode 109 (elapsed (220))\tAverage score: 38.89\tMoving Average: 29.14\n",
      "Episode 110 (elapsed (219))\tAverage score: 38.63\tMoving Average: 29.46\n",
      "Episode 111 (elapsed (219))\tAverage score: 37.84\tMoving Average: 29.76\n",
      "Episode 112 (elapsed (219))\tAverage score: 37.76\tMoving Average: 30.06\n",
      "\n",
      "Environment solved in 112 episodes. \tMoving Average =30.06 over last 100 episodes\n"
     ]
    }
   ],
   "source": [
    "# run the training loop\n",
    "agent = Agent(state_size=state_size, action_size=action_size, random_seed=1)\n",
    "score_history, avgs = ddpg()"
   ]
  },
  {
   "cell_type": "code",
   "execution_count": 8,
   "metadata": {},
   "outputs": [
    {
     "data": {
      "image/png": "[encoded data removed]",
      "text/plain": [
       "<matplotlib.figure.Figure at 0x7fdd826a4438>"
      ]
     },
     "metadata": {
      "needs_background": "light"
     },
     "output_type": "display_data"
    }
   ],
   "source": [
    "# plot the scores\n",
    "fig = plt.figure()\n",
    "ax = fig.add_subplot(111)\n",
    "plt.plot(np.arange(len(score_history)), score_history, label='DDPG score')\n",
    "plt.plot(np.arange(len(score_history)), avgs, c='g', label='Moving average')\n",
    "plt.ylabel('Score')\n",
    "plt.xlabel('Episode #')\n",
    "plt.legend(loc='upper left')\n",
    "fig.savefig('results.png', dpi=400)\n",
    "plt.show()"
   ]
  },
  {
   "cell_type": "markdown",
   "metadata": {},
   "source": [
    "When finished, you can close the environment."
   ]
  },
  {
   "cell_type": "code",
   "execution_count": 9,
   "metadata": {},
   "outputs": [],
   "source": [
    "env.close()"
   ]
  }
 ],
 "metadata": {
  "kernelspec": {
   "display_name": "Python 3",
   "language": "python",
   "name": "python3"
  },
  "language_info": {
   "codemirror_mode": {
    "name": "ipython",
    "version": 3
   },
   "file_extension": ".py",
   "mimetype": "text/x-python",
   "name": "python",
   "nbconvert_exporter": "python",
   "pygments_lexer": "ipython3",
   "version": "3.6.3"
  }
 },
 "nbformat": 4,
 "nbformat_minor": 2
}
